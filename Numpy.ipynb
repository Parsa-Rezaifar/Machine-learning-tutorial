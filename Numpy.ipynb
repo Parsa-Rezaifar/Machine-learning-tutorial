{
 "cells": [
  {
   "cell_type": "markdown",
   "id": "ac01a5af-bebb-4add-a3a3-f5d221238042",
   "metadata": {},
   "source": [
    "# Let's see some basic usages of Numpy\n",
    "### First of all import numpy"
   ]
  },
  {
   "cell_type": "code",
   "execution_count": 1,
   "id": "042a33ae-4080-4e1d-b7c2-cb8b8b19a03b",
   "metadata": {},
   "outputs": [],
   "source": [
    "import numpy as np"
   ]
  },
  {
   "cell_type": "markdown",
   "id": "fee6f2ec-4b0a-429d-b829-8817db2d724c",
   "metadata": {},
   "source": [
    "# let's do some basic stuff"
   ]
  },
  {
   "cell_type": "code",
   "execution_count": 2,
   "id": "683df7d7-df98-45fc-bb4e-b4df41287e29",
   "metadata": {},
   "outputs": [
    {
     "data": {
      "text/plain": [
       "array(5)"
      ]
     },
     "execution_count": 2,
     "metadata": {},
     "output_type": "execute_result"
    }
   ],
   "source": [
    "# Create an array with just one specific element\n",
    "array_one = np.array(5)\n",
    "array_one"
   ]
  },
  {
   "cell_type": "code",
   "execution_count": 3,
   "id": "174ddef4-949e-47f5-8596-f71cf57eb76f",
   "metadata": {},
   "outputs": [
    {
     "data": {
      "text/plain": [
       "array([ 0,  1,  2,  3,  4,  5,  6,  7,  8,  9, 10, 11, 12, 13, 14])"
      ]
     },
     "execution_count": 3,
     "metadata": {},
     "output_type": "execute_result"
    }
   ],
   "source": [
    "# Use a range of numbers for creating your array\n",
    "# This creates any array using 0 to 14 ascending\n",
    "array_two = np.arange(15)\n",
    "array_two"
   ]
  },
  {
   "cell_type": "code",
   "execution_count": 4,
   "id": "61d7eddc-ef1f-4de8-8945-0eaa77b3cc10",
   "metadata": {},
   "outputs": [
    {
     "data": {
      "text/plain": [
       "array([[ 0,  1,  2,  3,  4],\n",
       "       [ 5,  6,  7,  8,  9],\n",
       "       [10, 11, 12, 13, 14]])"
      ]
     },
     "execution_count": 4,
     "metadata": {},
     "output_type": "execute_result"
    }
   ],
   "source": [
    "# Use np.reshape() to reshape the array directly\n",
    "# You cannot reshape the array to irrational ratio like 3 times 4 , according to your original array\n",
    "# array_two to has 1 row  times 15 columns\n",
    "# This will make array_two 3 times 5\n",
    "# np.reshape(row,column)\n",
    "array_three = array_two.reshape(3,5)\n",
    "array_three"
   ]
  },
  {
   "cell_type": "code",
   "execution_count": 5,
   "id": "1239e901-be92-46d6-a1f0-cfabf0d38c1d",
   "metadata": {},
   "outputs": [
    {
     "data": {
      "text/plain": [
       "(15,)"
      ]
     },
     "execution_count": 5,
     "metadata": {},
     "output_type": "execute_result"
    }
   ],
   "source": [
    "# See what the shape of array is\n",
    "# it's an 15-element array\n",
    "array_two.shape"
   ]
  },
  {
   "cell_type": "code",
   "execution_count": 6,
   "id": "5f195321-fdd2-4940-b5a1-6389043202fc",
   "metadata": {},
   "outputs": [
    {
     "data": {
      "text/plain": [
       "(3, 5)"
      ]
     },
     "execution_count": 6,
     "metadata": {},
     "output_type": "execute_result"
    }
   ],
   "source": [
    "array_three.shape\n",
    "# It says that yout array includes 3 rows and 5 columns"
   ]
  },
  {
   "cell_type": "code",
   "execution_count": 7,
   "id": "199054e3-31ea-412b-8959-5eaac26ce4e7",
   "metadata": {},
   "outputs": [
    {
     "data": {
      "text/plain": [
       "2"
      ]
     },
     "execution_count": 7,
     "metadata": {},
     "output_type": "execute_result"
    }
   ],
   "source": [
    "# See the number of dimentions\n",
    "array_three.ndim"
   ]
  },
  {
   "cell_type": "code",
   "execution_count": 8,
   "id": "3e6455ad-ced9-4807-bf4f-c9419856fb14",
   "metadata": {},
   "outputs": [
    {
     "data": {
      "text/plain": [
       "15"
      ]
     },
     "execution_count": 8,
     "metadata": {},
     "output_type": "execute_result"
    }
   ],
   "source": [
    "# How many elements does it has\n",
    "array_three.size"
   ]
  },
  {
   "cell_type": "code",
   "execution_count": 9,
   "id": "3cf7b7fc-0b5e-4e5a-b018-265b684eb6a1",
   "metadata": {},
   "outputs": [
    {
     "data": {
      "text/plain": [
       "dtype('int64')"
      ]
     },
     "execution_count": 9,
     "metadata": {},
     "output_type": "execute_result"
    }
   ],
   "source": [
    "# See the type of the array\n",
    "array_three.dtype"
   ]
  },
  {
   "cell_type": "code",
   "execution_count": 10,
   "id": "c713fdd5-f8d3-408e-b6e7-bdbf8104fa6c",
   "metadata": {},
   "outputs": [
    {
     "data": {
      "text/plain": [
       "array([ 0,  1,  2,  3,  4,  5,  6,  7,  8,  9, 10, 11, 12, 13, 14, 15, 16,\n",
       "       17, 18, 19])"
      ]
     },
     "execution_count": 10,
     "metadata": {},
     "output_type": "execute_result"
    }
   ],
   "source": [
    "array_four = np.arange(20)\n",
    "array_four"
   ]
  },
  {
   "cell_type": "code",
   "execution_count": 11,
   "id": "e16e6fb9-0d05-48d7-b605-269a1dec94fa",
   "metadata": {},
   "outputs": [
    {
     "name": "stdout",
     "output_type": "stream",
     "text": [
      "[[[ 0  1]\n",
      "  [ 2  3]\n",
      "  [ 4  5]\n",
      "  [ 6  7]\n",
      "  [ 8  9]]\n",
      "\n",
      " [[10 11]\n",
      "  [12 13]\n",
      "  [14 15]\n",
      "  [16 17]\n",
      "  [18 19]]]\n",
      "This is the shape of array :  (2, 5, 2)\n",
      "This is the dimention of array :  3\n",
      "This is the size of array :  20\n",
      "This is the type of array :  int64\n"
     ]
    }
   ],
   "source": [
    "# reshape the array to a 3D matrix\n",
    "array_five = array_four.reshape(2,5,2)\n",
    "print(array_five)\n",
    "print('This is the shape of array : ',array_five.shape)\n",
    "print('This is the dimention of array : ',array_five.ndim)\n",
    "print('This is the size of array : ',array_five.size)\n",
    "print('This is the type of array : ',array_five.dtype)"
   ]
  },
  {
   "cell_type": "code",
   "execution_count": 12,
   "id": "426d5ad5-1549-4fa5-a093-baccc40752fb",
   "metadata": {},
   "outputs": [
    {
     "data": {
      "text/plain": [
       "array([[0., 0., 0., 0.],\n",
       "       [0., 0., 0., 0.],\n",
       "       [0., 0., 0., 0.]])"
      ]
     },
     "execution_count": 12,
     "metadata": {},
     "output_type": "execute_result"
    }
   ],
   "source": [
    "# produce data\n",
    "# create an array of zeros or ones\n",
    "# (rows,colums)\n",
    "zero_array = np.zeros((3,4))\n",
    "zero_array"
   ]
  },
  {
   "cell_type": "code",
   "execution_count": 13,
   "id": "90ab6997-066a-4e2d-9a90-4c9c79cec371",
   "metadata": {},
   "outputs": [
    {
     "data": {
      "text/plain": [
       "array([[1., 1., 1., 1.],\n",
       "       [1., 1., 1., 1.],\n",
       "       [1., 1., 1., 1.]])"
      ]
     },
     "execution_count": 13,
     "metadata": {},
     "output_type": "execute_result"
    }
   ],
   "source": [
    "one_array = np.ones((3,4))\n",
    "one_array"
   ]
  },
  {
   "cell_type": "markdown",
   "id": "0020245c-eb6d-4ce7-9e25-76a11cccc9cc",
   "metadata": {},
   "source": [
    "# Some operations on arrays"
   ]
  },
  {
   "cell_type": "code",
   "execution_count": 14,
   "id": "006a3c7d-84b1-4b1d-b2e6-76ba78e21cf2",
   "metadata": {},
   "outputs": [],
   "source": [
    "array_six = np.array([20,30,40,50])\n",
    "array_seven = np.arange(4)"
   ]
  },
  {
   "cell_type": "code",
   "execution_count": 15,
   "id": "61cf0249-e80c-4cf2-91e7-c2be3ce8a518",
   "metadata": {},
   "outputs": [
    {
     "data": {
      "text/plain": [
       "array([20, 29, 38, 47])"
      ]
     },
     "execution_count": 15,
     "metadata": {},
     "output_type": "execute_result"
    }
   ],
   "source": [
    "array_six - array_seven"
   ]
  },
  {
   "cell_type": "code",
   "execution_count": 16,
   "id": "b93cd1cd-2b53-4e44-a199-88795447d848",
   "metadata": {},
   "outputs": [
    {
     "data": {
      "text/plain": [
       "array([20, 31, 42, 53])"
      ]
     },
     "execution_count": 16,
     "metadata": {},
     "output_type": "execute_result"
    }
   ],
   "source": [
    "array_six + array_seven"
   ]
  },
  {
   "cell_type": "code",
   "execution_count": 17,
   "id": "4fcbc53f-4a50-4547-97ed-ca71aea056d4",
   "metadata": {},
   "outputs": [],
   "source": [
    "# normal multiply\n",
    "array_eight = array_six * array_seven"
   ]
  },
  {
   "cell_type": "code",
   "execution_count": 18,
   "id": "d056721a-67f8-4d3d-a08a-80efb889c308",
   "metadata": {},
   "outputs": [
    {
     "data": {
      "text/plain": [
       "array([False, False,  True,  True])"
      ]
     },
     "execution_count": 18,
     "metadata": {},
     "output_type": "execute_result"
    }
   ],
   "source": [
    "array_eight > 50"
   ]
  },
  {
   "cell_type": "code",
   "execution_count": 19,
   "id": "4187190d-9428-4161-b880-4d003ff699bc",
   "metadata": {},
   "outputs": [
    {
     "data": {
      "text/plain": [
       "array([ 0.        , -0.98803162, -0.99388865, -0.71487643])"
      ]
     },
     "execution_count": 19,
     "metadata": {},
     "output_type": "execute_result"
    }
   ],
   "source": [
    "np.sin(array_eight)"
   ]
  }
 ],
 "metadata": {
  "kernelspec": {
   "display_name": "Python 3 (ipykernel)",
   "language": "python",
   "name": "python3"
  },
  "language_info": {
   "codemirror_mode": {
    "name": "ipython",
    "version": 3
   },
   "file_extension": ".py",
   "mimetype": "text/x-python",
   "name": "python",
   "nbconvert_exporter": "python",
   "pygments_lexer": "ipython3",
   "version": "3.13.7"
  }
 },
 "nbformat": 4,
 "nbformat_minor": 5
}
