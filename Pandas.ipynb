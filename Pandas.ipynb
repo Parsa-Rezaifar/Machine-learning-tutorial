{
 "cells": [
  {
   "cell_type": "markdown",
   "id": "85ab3d47-f631-42bb-ad89-27da53d49c5a",
   "metadata": {},
   "source": [
    "# Let's see some basic usages of Pandas and Numpy\n",
    "### First of all import pandas and numpy"
   ]
  },
  {
   "cell_type": "code",
   "execution_count": 1,
   "id": "92e06dda-3d45-4c39-a295-049d1ba2386f",
   "metadata": {},
   "outputs": [],
   "source": [
    "import pandas as pd\n",
    "import numpy as np"
   ]
  },
  {
   "cell_type": "markdown",
   "id": "fb42dbdf-83bd-41bf-839c-9ca37a14a70c",
   "metadata": {},
   "source": [
    "# Let's do some basic stuff"
   ]
  },
  {
   "cell_type": "code",
   "execution_count": 2,
   "id": "d087c4fe-f8d0-438b-9caa-7bd99eba3ec3",
   "metadata": {},
   "outputs": [
    {
     "data": {
      "text/plain": [
       "0        1\n",
       "1        2\n",
       "2        3\n",
       "3    Parsa\n",
       "4        0\n",
       "5      NaN\n",
       "6       -1\n",
       "dtype: object"
      ]
     },
     "execution_count": 2,
     "metadata": {},
     "output_type": "execute_result"
    }
   ],
   "source": [
    "# Define a series of different data types\n",
    "# np.nan means nothing or no value or a blank value in a data frame or a table , and it's not zero\n",
    "# or dash and it's Nan\n",
    "pd.Series([1,2,3,'Parsa',0,np.nan,-1])"
   ]
  },
  {
   "cell_type": "code",
   "execution_count": 3,
   "id": "7bf6d254-a36d-46a4-8f07-3137d020361b",
   "metadata": {},
   "outputs": [
    {
     "data": {
      "text/plain": [
       "DatetimeIndex(['2025-01-01', '2025-01-02', '2025-01-03', '2025-01-04',\n",
       "               '2025-01-05', '2025-01-06'],\n",
       "              dtype='datetime64[ns]', freq='D')"
      ]
     },
     "execution_count": 3,
     "metadata": {},
     "output_type": "execute_result"
    }
   ],
   "source": [
    "# This gives you some random dates from year : 2025 , month : 01 and day : 01\n",
    "# periods means how many days of that month and year , you should go forward\n",
    "dates = pd.date_range('20250101',periods=6)\n",
    "dates"
   ]
  },
  {
   "cell_type": "code",
   "execution_count": 11,
   "id": "34b16dac-8158-49d1-b4d7-bc3be102d7a3",
   "metadata": {},
   "outputs": [
    {
     "data": {
      "text/plain": [
       "array([[-0.0214201 , -1.46014435, -0.55836237, -0.48670668],\n",
       "       [ 1.4498629 , -0.85415785, -0.35021724,  0.12056385],\n",
       "       [ 0.01211037, -0.50630991,  1.32093909, -0.68260177],\n",
       "       [-0.38439388, -0.12788343,  0.13781082,  0.41748665],\n",
       "       [-0.28983157,  0.06640906, -1.29244868,  0.98423694],\n",
       "       [ 0.31123837, -0.72158816,  1.51911769, -0.7513007 ]])"
      ]
     },
     "execution_count": 11,
     "metadata": {},
     "output_type": "execute_result"
    }
   ],
   "source": [
    "# This gives you random numbers in 6 rows and 4 columns\n",
    "# If you use np.random.rand , it gives you random numbers between 0 and 1\n",
    "# But randn uses normal distribution curve which the middle point is 0 and\n",
    "# the most you get is something around 0, but one day you may see 1000 as well but too impossible\n",
    "np.random.randn(6,4)"
   ]
  },
  {
   "cell_type": "code",
   "execution_count": 14,
   "id": "508f176e-ed83-4ff7-a4d5-e82242db1f2c",
   "metadata": {},
   "outputs": [],
   "source": [
    "# Data_Frame = pd.DataFrame(first-part,index=nothing,columns=nothing)\n",
    "# first-part means the data by which you want to fill the data frame\n",
    "# index means rows\n",
    "Data_Frame = pd.DataFrame(np.random.randn(6,4),index=dates,columns=['A','B','C','D'])"
   ]
  },
  {
   "cell_type": "code",
   "execution_count": 15,
   "id": "efa49f68-2abd-420a-a6f0-0d554dea40d7",
   "metadata": {},
   "outputs": [
    {
     "data": {
      "text/html": [
       "<div>\n",
       "<style scoped>\n",
       "    .dataframe tbody tr th:only-of-type {\n",
       "        vertical-align: middle;\n",
       "    }\n",
       "\n",
       "    .dataframe tbody tr th {\n",
       "        vertical-align: top;\n",
       "    }\n",
       "\n",
       "    .dataframe thead th {\n",
       "        text-align: right;\n",
       "    }\n",
       "</style>\n",
       "<table border=\"1\" class=\"dataframe\">\n",
       "  <thead>\n",
       "    <tr style=\"text-align: right;\">\n",
       "      <th></th>\n",
       "      <th>A</th>\n",
       "      <th>B</th>\n",
       "      <th>C</th>\n",
       "      <th>D</th>\n",
       "    </tr>\n",
       "  </thead>\n",
       "  <tbody>\n",
       "    <tr>\n",
       "      <th>2025-01-01</th>\n",
       "      <td>-2.094681</td>\n",
       "      <td>1.484954</td>\n",
       "      <td>0.342570</td>\n",
       "      <td>-0.608132</td>\n",
       "    </tr>\n",
       "    <tr>\n",
       "      <th>2025-01-02</th>\n",
       "      <td>2.198727</td>\n",
       "      <td>-0.457548</td>\n",
       "      <td>2.184116</td>\n",
       "      <td>-0.312555</td>\n",
       "    </tr>\n",
       "    <tr>\n",
       "      <th>2025-01-03</th>\n",
       "      <td>0.765703</td>\n",
       "      <td>0.067414</td>\n",
       "      <td>-0.466065</td>\n",
       "      <td>-0.671623</td>\n",
       "    </tr>\n",
       "    <tr>\n",
       "      <th>2025-01-04</th>\n",
       "      <td>0.668669</td>\n",
       "      <td>-1.490130</td>\n",
       "      <td>0.174384</td>\n",
       "      <td>-0.024745</td>\n",
       "    </tr>\n",
       "    <tr>\n",
       "      <th>2025-01-05</th>\n",
       "      <td>0.288436</td>\n",
       "      <td>-0.892103</td>\n",
       "      <td>-0.248659</td>\n",
       "      <td>-0.705887</td>\n",
       "    </tr>\n",
       "    <tr>\n",
       "      <th>2025-01-06</th>\n",
       "      <td>0.010047</td>\n",
       "      <td>0.189019</td>\n",
       "      <td>-0.155464</td>\n",
       "      <td>-1.119271</td>\n",
       "    </tr>\n",
       "  </tbody>\n",
       "</table>\n",
       "</div>"
      ],
      "text/plain": [
       "                   A         B         C         D\n",
       "2025-01-01 -2.094681  1.484954  0.342570 -0.608132\n",
       "2025-01-02  2.198727 -0.457548  2.184116 -0.312555\n",
       "2025-01-03  0.765703  0.067414 -0.466065 -0.671623\n",
       "2025-01-04  0.668669 -1.490130  0.174384 -0.024745\n",
       "2025-01-05  0.288436 -0.892103 -0.248659 -0.705887\n",
       "2025-01-06  0.010047  0.189019 -0.155464 -1.119271"
      ]
     },
     "execution_count": 15,
     "metadata": {},
     "output_type": "execute_result"
    }
   ],
   "source": [
    "Data_Frame"
   ]
  },
  {
   "cell_type": "code",
   "execution_count": 16,
   "id": "fb83e368-2c4e-4d59-ac1a-b3b910576806",
   "metadata": {},
   "outputs": [
    {
     "data": {
      "text/plain": [
       "A    float64\n",
       "B    float64\n",
       "C    float64\n",
       "D    float64\n",
       "dtype: object"
      ]
     },
     "execution_count": 16,
     "metadata": {},
     "output_type": "execute_result"
    }
   ],
   "source": [
    "Data_Frame.dtypes"
   ]
  },
  {
   "cell_type": "code",
   "execution_count": 18,
   "id": "a5509e61-f996-440a-89f3-667a5d188632",
   "metadata": {},
   "outputs": [
    {
     "data": {
      "text/plain": [
       "2025-01-01   -2.094681\n",
       "2025-01-02    2.198727\n",
       "2025-01-03    0.765703\n",
       "2025-01-04    0.668669\n",
       "2025-01-05    0.288436\n",
       "2025-01-06    0.010047\n",
       "Freq: D, Name: A, dtype: float64"
      ]
     },
     "execution_count": 18,
     "metadata": {},
     "output_type": "execute_result"
    }
   ],
   "source": [
    "# You can access to a specific part of the data frame\n",
    "# Data_Frame['name of one column']\n",
    "Data_Frame['A']"
   ]
  },
  {
   "cell_type": "code",
   "execution_count": 33,
   "id": "a21fc0f8-632f-4979-b8de-302026c6bd9f",
   "metadata": {},
   "outputs": [
    {
     "data": {
      "text/html": [
       "<div>\n",
       "<style scoped>\n",
       "    .dataframe tbody tr th:only-of-type {\n",
       "        vertical-align: middle;\n",
       "    }\n",
       "\n",
       "    .dataframe tbody tr th {\n",
       "        vertical-align: top;\n",
       "    }\n",
       "\n",
       "    .dataframe thead th {\n",
       "        text-align: right;\n",
       "    }\n",
       "</style>\n",
       "<table border=\"1\" class=\"dataframe\">\n",
       "  <thead>\n",
       "    <tr style=\"text-align: right;\">\n",
       "      <th></th>\n",
       "      <th>A</th>\n",
       "      <th>B</th>\n",
       "      <th>C</th>\n",
       "      <th>D</th>\n",
       "    </tr>\n",
       "  </thead>\n",
       "  <tbody>\n",
       "    <tr>\n",
       "      <th>2025-01-01</th>\n",
       "      <td>-2.094681</td>\n",
       "      <td>1.484954</td>\n",
       "      <td>0.342570</td>\n",
       "      <td>-0.608132</td>\n",
       "    </tr>\n",
       "    <tr>\n",
       "      <th>2025-01-02</th>\n",
       "      <td>2.198727</td>\n",
       "      <td>-0.457548</td>\n",
       "      <td>2.184116</td>\n",
       "      <td>-0.312555</td>\n",
       "    </tr>\n",
       "    <tr>\n",
       "      <th>2025-01-03</th>\n",
       "      <td>0.765703</td>\n",
       "      <td>0.067414</td>\n",
       "      <td>-0.466065</td>\n",
       "      <td>-0.671623</td>\n",
       "    </tr>\n",
       "    <tr>\n",
       "      <th>2025-01-04</th>\n",
       "      <td>0.668669</td>\n",
       "      <td>-1.490130</td>\n",
       "      <td>0.174384</td>\n",
       "      <td>-0.024745</td>\n",
       "    </tr>\n",
       "    <tr>\n",
       "      <th>2025-01-05</th>\n",
       "      <td>0.288436</td>\n",
       "      <td>-0.892103</td>\n",
       "      <td>-0.248659</td>\n",
       "      <td>-0.705887</td>\n",
       "    </tr>\n",
       "  </tbody>\n",
       "</table>\n",
       "</div>"
      ],
      "text/plain": [
       "                   A         B         C         D\n",
       "2025-01-01 -2.094681  1.484954  0.342570 -0.608132\n",
       "2025-01-02  2.198727 -0.457548  2.184116 -0.312555\n",
       "2025-01-03  0.765703  0.067414 -0.466065 -0.671623\n",
       "2025-01-04  0.668669 -1.490130  0.174384 -0.024745\n",
       "2025-01-05  0.288436 -0.892103 -0.248659 -0.705887"
      ]
     },
     "execution_count": 33,
     "metadata": {},
     "output_type": "execute_result"
    }
   ],
   "source": [
    "# Just shows the first 5 lines of the whole data\n",
    "Data_Frame.head()"
   ]
  },
  {
   "cell_type": "code",
   "execution_count": 26,
   "id": "5a232a02-197e-4b05-b196-8d5440295c2e",
   "metadata": {},
   "outputs": [
    {
     "data": {
      "text/html": [
       "<div>\n",
       "<style scoped>\n",
       "    .dataframe tbody tr th:only-of-type {\n",
       "        vertical-align: middle;\n",
       "    }\n",
       "\n",
       "    .dataframe tbody tr th {\n",
       "        vertical-align: top;\n",
       "    }\n",
       "\n",
       "    .dataframe thead th {\n",
       "        text-align: right;\n",
       "    }\n",
       "</style>\n",
       "<table border=\"1\" class=\"dataframe\">\n",
       "  <thead>\n",
       "    <tr style=\"text-align: right;\">\n",
       "      <th></th>\n",
       "      <th>A</th>\n",
       "      <th>B</th>\n",
       "      <th>C</th>\n",
       "      <th>D</th>\n",
       "    </tr>\n",
       "  </thead>\n",
       "  <tbody>\n",
       "    <tr>\n",
       "      <th>2025-01-01</th>\n",
       "      <td>-2.094681</td>\n",
       "      <td>1.484954</td>\n",
       "      <td>0.342570</td>\n",
       "      <td>-0.608132</td>\n",
       "    </tr>\n",
       "    <tr>\n",
       "      <th>2025-01-02</th>\n",
       "      <td>2.198727</td>\n",
       "      <td>-0.457548</td>\n",
       "      <td>2.184116</td>\n",
       "      <td>-0.312555</td>\n",
       "    </tr>\n",
       "  </tbody>\n",
       "</table>\n",
       "</div>"
      ],
      "text/plain": [
       "                   A         B         C         D\n",
       "2025-01-01 -2.094681  1.484954  0.342570 -0.608132\n",
       "2025-01-02  2.198727 -0.457548  2.184116 -0.312555"
      ]
     },
     "execution_count": 26,
     "metadata": {},
     "output_type": "execute_result"
    }
   ],
   "source": [
    "# Just shows the first two rows of the whole data frame\n",
    "Data_Frame.head(2)"
   ]
  },
  {
   "cell_type": "code",
   "execution_count": 25,
   "id": "235886fa-f00c-429c-ad42-b4f06b7cb17e",
   "metadata": {},
   "outputs": [
    {
     "data": {
      "text/html": [
       "<div>\n",
       "<style scoped>\n",
       "    .dataframe tbody tr th:only-of-type {\n",
       "        vertical-align: middle;\n",
       "    }\n",
       "\n",
       "    .dataframe tbody tr th {\n",
       "        vertical-align: top;\n",
       "    }\n",
       "\n",
       "    .dataframe thead th {\n",
       "        text-align: right;\n",
       "    }\n",
       "</style>\n",
       "<table border=\"1\" class=\"dataframe\">\n",
       "  <thead>\n",
       "    <tr style=\"text-align: right;\">\n",
       "      <th></th>\n",
       "      <th>A</th>\n",
       "      <th>B</th>\n",
       "      <th>C</th>\n",
       "      <th>D</th>\n",
       "    </tr>\n",
       "  </thead>\n",
       "  <tbody>\n",
       "    <tr>\n",
       "      <th>2025-01-05</th>\n",
       "      <td>0.288436</td>\n",
       "      <td>-0.892103</td>\n",
       "      <td>-0.248659</td>\n",
       "      <td>-0.705887</td>\n",
       "    </tr>\n",
       "    <tr>\n",
       "      <th>2025-01-06</th>\n",
       "      <td>0.010047</td>\n",
       "      <td>0.189019</td>\n",
       "      <td>-0.155464</td>\n",
       "      <td>-1.119271</td>\n",
       "    </tr>\n",
       "  </tbody>\n",
       "</table>\n",
       "</div>"
      ],
      "text/plain": [
       "                   A         B         C         D\n",
       "2025-01-05  0.288436 -0.892103 -0.248659 -0.705887\n",
       "2025-01-06  0.010047  0.189019 -0.155464 -1.119271"
      ]
     },
     "execution_count": 25,
     "metadata": {},
     "output_type": "execute_result"
    }
   ],
   "source": [
    "# Just shows the last two rows of the whole data frame\n",
    "Data_Frame.tail(2)"
   ]
  },
  {
   "cell_type": "code",
   "execution_count": 22,
   "id": "766e69a4-282d-4cf6-a796-d12d38866298",
   "metadata": {},
   "outputs": [
    {
     "data": {
      "text/html": [
       "<div>\n",
       "<style scoped>\n",
       "    .dataframe tbody tr th:only-of-type {\n",
       "        vertical-align: middle;\n",
       "    }\n",
       "\n",
       "    .dataframe tbody tr th {\n",
       "        vertical-align: top;\n",
       "    }\n",
       "\n",
       "    .dataframe thead th {\n",
       "        text-align: right;\n",
       "    }\n",
       "</style>\n",
       "<table border=\"1\" class=\"dataframe\">\n",
       "  <thead>\n",
       "    <tr style=\"text-align: right;\">\n",
       "      <th></th>\n",
       "      <th>A</th>\n",
       "      <th>B</th>\n",
       "      <th>C</th>\n",
       "      <th>D</th>\n",
       "    </tr>\n",
       "  </thead>\n",
       "  <tbody>\n",
       "    <tr>\n",
       "      <th>count</th>\n",
       "      <td>6.000000</td>\n",
       "      <td>6.000000</td>\n",
       "      <td>6.000000</td>\n",
       "      <td>6.000000</td>\n",
       "    </tr>\n",
       "    <tr>\n",
       "      <th>mean</th>\n",
       "      <td>0.306150</td>\n",
       "      <td>-0.183066</td>\n",
       "      <td>0.305147</td>\n",
       "      <td>-0.573702</td>\n",
       "    </tr>\n",
       "    <tr>\n",
       "      <th>std</th>\n",
       "      <td>1.398316</td>\n",
       "      <td>1.026642</td>\n",
       "      <td>0.965676</td>\n",
       "      <td>0.372946</td>\n",
       "    </tr>\n",
       "    <tr>\n",
       "      <th>min</th>\n",
       "      <td>-2.094681</td>\n",
       "      <td>-1.490130</td>\n",
       "      <td>-0.466065</td>\n",
       "      <td>-1.119271</td>\n",
       "    </tr>\n",
       "    <tr>\n",
       "      <th>25%</th>\n",
       "      <td>0.079644</td>\n",
       "      <td>-0.783465</td>\n",
       "      <td>-0.225360</td>\n",
       "      <td>-0.697321</td>\n",
       "    </tr>\n",
       "    <tr>\n",
       "      <th>50%</th>\n",
       "      <td>0.478553</td>\n",
       "      <td>-0.195067</td>\n",
       "      <td>0.009460</td>\n",
       "      <td>-0.639878</td>\n",
       "    </tr>\n",
       "    <tr>\n",
       "      <th>75%</th>\n",
       "      <td>0.741444</td>\n",
       "      <td>0.158618</td>\n",
       "      <td>0.300523</td>\n",
       "      <td>-0.386450</td>\n",
       "    </tr>\n",
       "    <tr>\n",
       "      <th>max</th>\n",
       "      <td>2.198727</td>\n",
       "      <td>1.484954</td>\n",
       "      <td>2.184116</td>\n",
       "      <td>-0.024745</td>\n",
       "    </tr>\n",
       "  </tbody>\n",
       "</table>\n",
       "</div>"
      ],
      "text/plain": [
       "              A         B         C         D\n",
       "count  6.000000  6.000000  6.000000  6.000000\n",
       "mean   0.306150 -0.183066  0.305147 -0.573702\n",
       "std    1.398316  1.026642  0.965676  0.372946\n",
       "min   -2.094681 -1.490130 -0.466065 -1.119271\n",
       "25%    0.079644 -0.783465 -0.225360 -0.697321\n",
       "50%    0.478553 -0.195067  0.009460 -0.639878\n",
       "75%    0.741444  0.158618  0.300523 -0.386450\n",
       "max    2.198727  1.484954  2.184116 -0.024745"
      ]
     },
     "execution_count": 22,
     "metadata": {},
     "output_type": "execute_result"
    }
   ],
   "source": [
    "# This gives you a general view about your data\n",
    "Data_Frame.describe()"
   ]
  },
  {
   "cell_type": "code",
   "execution_count": 23,
   "id": "0afe9d84-6ece-450a-aed2-f45dddbeffc4",
   "metadata": {},
   "outputs": [
    {
     "data": {
      "text/plain": [
       "A    0.306150\n",
       "B   -0.183066\n",
       "C    0.305147\n",
       "D   -0.573702\n",
       "dtype: float64"
      ]
     },
     "execution_count": 23,
     "metadata": {},
     "output_type": "execute_result"
    }
   ],
   "source": [
    "# Just gives you mean of each column\n",
    "Data_Frame.mean()"
   ]
  },
  {
   "cell_type": "code",
   "execution_count": 28,
   "id": "e36946d2-7175-4c7f-85f8-e2435ac633f6",
   "metadata": {},
   "outputs": [
    {
     "data": {
      "text/plain": [
       "np.float64(0.3061502403782162)"
      ]
     },
     "execution_count": 28,
     "metadata": {},
     "output_type": "execute_result"
    }
   ],
   "source": [
    "Data_Frame['A'].mean()"
   ]
  },
  {
   "cell_type": "code",
   "execution_count": 29,
   "id": "7c8112b5-6bcf-4c17-86ae-f8ab37e71936",
   "metadata": {},
   "outputs": [
    {
     "data": {
      "text/html": [
       "<div>\n",
       "<style scoped>\n",
       "    .dataframe tbody tr th:only-of-type {\n",
       "        vertical-align: middle;\n",
       "    }\n",
       "\n",
       "    .dataframe tbody tr th {\n",
       "        vertical-align: top;\n",
       "    }\n",
       "\n",
       "    .dataframe thead th {\n",
       "        text-align: right;\n",
       "    }\n",
       "</style>\n",
       "<table border=\"1\" class=\"dataframe\">\n",
       "  <thead>\n",
       "    <tr style=\"text-align: right;\">\n",
       "      <th></th>\n",
       "      <th>A</th>\n",
       "      <th>B</th>\n",
       "      <th>C</th>\n",
       "      <th>D</th>\n",
       "    </tr>\n",
       "  </thead>\n",
       "  <tbody>\n",
       "    <tr>\n",
       "      <th>2025-01-01</th>\n",
       "      <td>-2.094681</td>\n",
       "      <td>1.484954</td>\n",
       "      <td>0.342570</td>\n",
       "      <td>-0.608132</td>\n",
       "    </tr>\n",
       "    <tr>\n",
       "      <th>2025-01-02</th>\n",
       "      <td>2.198727</td>\n",
       "      <td>-0.457548</td>\n",
       "      <td>2.184116</td>\n",
       "      <td>-0.312555</td>\n",
       "    </tr>\n",
       "  </tbody>\n",
       "</table>\n",
       "</div>"
      ],
      "text/plain": [
       "                   A         B         C         D\n",
       "2025-01-01 -2.094681  1.484954  0.342570 -0.608132\n",
       "2025-01-02  2.198727 -0.457548  2.184116 -0.312555"
      ]
     },
     "execution_count": 29,
     "metadata": {},
     "output_type": "execute_result"
    }
   ],
   "source": [
    "# Just shows rows 0 and 1\n",
    "Data_Frame[0:2]"
   ]
  },
  {
   "cell_type": "code",
   "execution_count": 30,
   "id": "029a2da0-fe0e-48c1-a4a6-bd49915d82e2",
   "metadata": {},
   "outputs": [
    {
     "data": {
      "text/html": [
       "<div>\n",
       "<style scoped>\n",
       "    .dataframe tbody tr th:only-of-type {\n",
       "        vertical-align: middle;\n",
       "    }\n",
       "\n",
       "    .dataframe tbody tr th {\n",
       "        vertical-align: top;\n",
       "    }\n",
       "\n",
       "    .dataframe thead th {\n",
       "        text-align: right;\n",
       "    }\n",
       "</style>\n",
       "<table border=\"1\" class=\"dataframe\">\n",
       "  <thead>\n",
       "    <tr style=\"text-align: right;\">\n",
       "      <th></th>\n",
       "      <th>2025-01-01</th>\n",
       "      <th>2025-01-02</th>\n",
       "      <th>2025-01-03</th>\n",
       "      <th>2025-01-04</th>\n",
       "      <th>2025-01-05</th>\n",
       "      <th>2025-01-06</th>\n",
       "    </tr>\n",
       "  </thead>\n",
       "  <tbody>\n",
       "    <tr>\n",
       "      <th>A</th>\n",
       "      <td>-2.094681</td>\n",
       "      <td>2.198727</td>\n",
       "      <td>0.765703</td>\n",
       "      <td>0.668669</td>\n",
       "      <td>0.288436</td>\n",
       "      <td>0.010047</td>\n",
       "    </tr>\n",
       "    <tr>\n",
       "      <th>B</th>\n",
       "      <td>1.484954</td>\n",
       "      <td>-0.457548</td>\n",
       "      <td>0.067414</td>\n",
       "      <td>-1.490130</td>\n",
       "      <td>-0.892103</td>\n",
       "      <td>0.189019</td>\n",
       "    </tr>\n",
       "    <tr>\n",
       "      <th>C</th>\n",
       "      <td>0.342570</td>\n",
       "      <td>2.184116</td>\n",
       "      <td>-0.466065</td>\n",
       "      <td>0.174384</td>\n",
       "      <td>-0.248659</td>\n",
       "      <td>-0.155464</td>\n",
       "    </tr>\n",
       "    <tr>\n",
       "      <th>D</th>\n",
       "      <td>-0.608132</td>\n",
       "      <td>-0.312555</td>\n",
       "      <td>-0.671623</td>\n",
       "      <td>-0.024745</td>\n",
       "      <td>-0.705887</td>\n",
       "      <td>-1.119271</td>\n",
       "    </tr>\n",
       "  </tbody>\n",
       "</table>\n",
       "</div>"
      ],
      "text/plain": [
       "   2025-01-01  2025-01-02  2025-01-03  2025-01-04  2025-01-05  2025-01-06\n",
       "A   -2.094681    2.198727    0.765703    0.668669    0.288436    0.010047\n",
       "B    1.484954   -0.457548    0.067414   -1.490130   -0.892103    0.189019\n",
       "C    0.342570    2.184116   -0.466065    0.174384   -0.248659   -0.155464\n",
       "D   -0.608132   -0.312555   -0.671623   -0.024745   -0.705887   -1.119271"
      ]
     },
     "execution_count": 30,
     "metadata": {},
     "output_type": "execute_result"
    }
   ],
   "source": [
    "# You can transpose rows and columns\n",
    "Data_Frame.T"
   ]
  },
  {
   "cell_type": "code",
   "execution_count": 31,
   "id": "5bc1ccab-21c0-4f1b-aa9c-6d1ac25f7ff7",
   "metadata": {},
   "outputs": [
    {
     "data": {
      "text/html": [
       "<div>\n",
       "<style scoped>\n",
       "    .dataframe tbody tr th:only-of-type {\n",
       "        vertical-align: middle;\n",
       "    }\n",
       "\n",
       "    .dataframe tbody tr th {\n",
       "        vertical-align: top;\n",
       "    }\n",
       "\n",
       "    .dataframe thead th {\n",
       "        text-align: right;\n",
       "    }\n",
       "</style>\n",
       "<table border=\"1\" class=\"dataframe\">\n",
       "  <thead>\n",
       "    <tr style=\"text-align: right;\">\n",
       "      <th></th>\n",
       "      <th>A</th>\n",
       "      <th>B</th>\n",
       "      <th>C</th>\n",
       "      <th>D</th>\n",
       "    </tr>\n",
       "  </thead>\n",
       "  <tbody>\n",
       "    <tr>\n",
       "      <th>2025-01-04</th>\n",
       "      <td>0.668669</td>\n",
       "      <td>-1.490130</td>\n",
       "      <td>0.174384</td>\n",
       "      <td>-0.024745</td>\n",
       "    </tr>\n",
       "    <tr>\n",
       "      <th>2025-01-05</th>\n",
       "      <td>0.288436</td>\n",
       "      <td>-0.892103</td>\n",
       "      <td>-0.248659</td>\n",
       "      <td>-0.705887</td>\n",
       "    </tr>\n",
       "    <tr>\n",
       "      <th>2025-01-02</th>\n",
       "      <td>2.198727</td>\n",
       "      <td>-0.457548</td>\n",
       "      <td>2.184116</td>\n",
       "      <td>-0.312555</td>\n",
       "    </tr>\n",
       "    <tr>\n",
       "      <th>2025-01-03</th>\n",
       "      <td>0.765703</td>\n",
       "      <td>0.067414</td>\n",
       "      <td>-0.466065</td>\n",
       "      <td>-0.671623</td>\n",
       "    </tr>\n",
       "    <tr>\n",
       "      <th>2025-01-06</th>\n",
       "      <td>0.010047</td>\n",
       "      <td>0.189019</td>\n",
       "      <td>-0.155464</td>\n",
       "      <td>-1.119271</td>\n",
       "    </tr>\n",
       "    <tr>\n",
       "      <th>2025-01-01</th>\n",
       "      <td>-2.094681</td>\n",
       "      <td>1.484954</td>\n",
       "      <td>0.342570</td>\n",
       "      <td>-0.608132</td>\n",
       "    </tr>\n",
       "  </tbody>\n",
       "</table>\n",
       "</div>"
      ],
      "text/plain": [
       "                   A         B         C         D\n",
       "2025-01-04  0.668669 -1.490130  0.174384 -0.024745\n",
       "2025-01-05  0.288436 -0.892103 -0.248659 -0.705887\n",
       "2025-01-02  2.198727 -0.457548  2.184116 -0.312555\n",
       "2025-01-03  0.765703  0.067414 -0.466065 -0.671623\n",
       "2025-01-06  0.010047  0.189019 -0.155464 -1.119271\n",
       "2025-01-01 -2.094681  1.484954  0.342570 -0.608132"
      ]
     },
     "execution_count": 31,
     "metadata": {},
     "output_type": "execute_result"
    }
   ],
   "source": [
    "# This sorts data frame based on values\n",
    "# sort_values(by=name of column)\n",
    "Data_Frame.sort_values(by='B')"
   ]
  },
  {
   "cell_type": "code",
   "execution_count": 32,
   "id": "e35f811c-42f6-45cd-bd11-b324d368ea08",
   "metadata": {},
   "outputs": [
    {
     "data": {
      "text/html": [
       "<div>\n",
       "<style scoped>\n",
       "    .dataframe tbody tr th:only-of-type {\n",
       "        vertical-align: middle;\n",
       "    }\n",
       "\n",
       "    .dataframe tbody tr th {\n",
       "        vertical-align: top;\n",
       "    }\n",
       "\n",
       "    .dataframe thead th {\n",
       "        text-align: right;\n",
       "    }\n",
       "</style>\n",
       "<table border=\"1\" class=\"dataframe\">\n",
       "  <thead>\n",
       "    <tr style=\"text-align: right;\">\n",
       "      <th></th>\n",
       "      <th>A</th>\n",
       "      <th>B</th>\n",
       "      <th>C</th>\n",
       "      <th>D</th>\n",
       "    </tr>\n",
       "  </thead>\n",
       "  <tbody>\n",
       "    <tr>\n",
       "      <th>2025-01-02</th>\n",
       "      <td>2.198727</td>\n",
       "      <td>-0.457548</td>\n",
       "      <td>2.184116</td>\n",
       "      <td>-0.312555</td>\n",
       "    </tr>\n",
       "    <tr>\n",
       "      <th>2025-01-03</th>\n",
       "      <td>0.765703</td>\n",
       "      <td>0.067414</td>\n",
       "      <td>-0.466065</td>\n",
       "      <td>-0.671623</td>\n",
       "    </tr>\n",
       "    <tr>\n",
       "      <th>2025-01-04</th>\n",
       "      <td>0.668669</td>\n",
       "      <td>-1.490130</td>\n",
       "      <td>0.174384</td>\n",
       "      <td>-0.024745</td>\n",
       "    </tr>\n",
       "    <tr>\n",
       "      <th>2025-01-05</th>\n",
       "      <td>0.288436</td>\n",
       "      <td>-0.892103</td>\n",
       "      <td>-0.248659</td>\n",
       "      <td>-0.705887</td>\n",
       "    </tr>\n",
       "    <tr>\n",
       "      <th>2025-01-06</th>\n",
       "      <td>0.010047</td>\n",
       "      <td>0.189019</td>\n",
       "      <td>-0.155464</td>\n",
       "      <td>-1.119271</td>\n",
       "    </tr>\n",
       "  </tbody>\n",
       "</table>\n",
       "</div>"
      ],
      "text/plain": [
       "                   A         B         C         D\n",
       "2025-01-02  2.198727 -0.457548  2.184116 -0.312555\n",
       "2025-01-03  0.765703  0.067414 -0.466065 -0.671623\n",
       "2025-01-04  0.668669 -1.490130  0.174384 -0.024745\n",
       "2025-01-05  0.288436 -0.892103 -0.248659 -0.705887\n",
       "2025-01-06  0.010047  0.189019 -0.155464 -1.119271"
      ]
     },
     "execution_count": 32,
     "metadata": {},
     "output_type": "execute_result"
    }
   ],
   "source": [
    "# Finds where A is bigger than 0\n",
    "Data_Frame[Data_Frame['A']>0]"
   ]
  },
  {
   "cell_type": "markdown",
   "id": "94f1074f-52f0-41b8-91cc-183a1e55c697",
   "metadata": {},
   "source": [
    "# Read and write"
   ]
  },
  {
   "cell_type": "code",
   "execution_count": null,
   "id": "26892485-db57-40ba-9fc5-a28b777b35ac",
   "metadata": {},
   "outputs": [],
   "source": [
    "df.read_csv('csv_file_name.csv')"
   ]
  },
  {
   "cell_type": "code",
   "execution_count": null,
   "id": "58f99019-51a2-4974-9dc2-fa144910ba4b",
   "metadata": {},
   "outputs": [],
   "source": [
    "# Data_Frame.to_csv(\"where to save data frame and the name which will be saved by that\")\n",
    "Data_Frame.to_csv()"
   ]
  },
  {
   "cell_type": "code",
   "execution_count": null,
   "id": "d781c92c-de1b-4f2d-af58-37f78e6e90eb",
   "metadata": {},
   "outputs": [],
   "source": [
    "# Fist install openpyxl with pip and you can export your data as an excel file\n",
    "Data_Frame.to_excel()"
   ]
  }
 ],
 "metadata": {
  "kernelspec": {
   "display_name": "Python 3 (ipykernel)",
   "language": "python",
   "name": "python3"
  },
  "language_info": {
   "codemirror_mode": {
    "name": "ipython",
    "version": 3
   },
   "file_extension": ".py",
   "mimetype": "text/x-python",
   "name": "python",
   "nbconvert_exporter": "python",
   "pygments_lexer": "ipython3",
   "version": "3.13.7"
  }
 },
 "nbformat": 4,
 "nbformat_minor": 5
}
